{
 "cells": [
  {
   "cell_type": "code",
   "execution_count": null,
   "metadata": {},
   "outputs": [],
   "source": [
    "import numpy as np\n",
    "import sys\n",
    "from collections import defaultdict"
   ]
  },
  {
   "cell_type": "code",
   "execution_count": null,
   "metadata": {},
   "outputs": [],
   "source": [
    "def print_grid(grid):\n",
    "    for i in grid:\n",
    "        for j in i:\n",
    "            if j == 0:\n",
    "                print(\"_\", end=\"  \")\n",
    "            else: \n",
    "                print(int(j), end=\"  \")\n",
    "        print(\"\\n\")"
   ]
  },
  {
   "cell_type": "code",
   "execution_count": null,
   "metadata": {},
   "outputs": [],
   "source": [
    "def initialize_grid(grid):\n",
    "    #Initialize the grid\n",
    "    initial_state = {14:3, 16:8, 17:5, 20:1, 22:2, 30:5, 32:7, 38:4, 42:1, 46:9, 54:5, 61:7, 62:3, 65:2, 67:1, 76:4, 80:9}\n",
    "    for k,v in initial_state.items():\n",
    "        row = k//9\n",
    "        col = k%9\n",
    "        grid[row, col] = v\n",
    "    \n",
    "    print(\"Grid:\\n\")\n",
    "    print_grid(grid)\n",
    "    return grid"
   ]
  },
  {
   "cell_type": "code",
   "execution_count": null,
   "metadata": {},
   "outputs": [],
   "source": [
    "# state_tree = {}\n",
    "# values_tree = defaultdict(dict)"
   ]
  },
  {
   "cell_type": "code",
   "execution_count": null,
   "metadata": {},
   "outputs": [],
   "source": [
    "def find_new_domain(grid, cell_idx, value, old_domain):\n",
    "    rowid = cell_idx//9\n",
    "    colid = cell_idx%9\n",
    "    \n",
    "    # Remove the value from the same row/column candidates\n",
    "    for i in range(0, 9):\n",
    "        if value in old_domain[(rowid, i)]:\n",
    "            old_domain[(rowid, i)].remove(value)\n",
    "        if value in old_domain[(i, colid)]:\n",
    "            old_domain[(i, colid)].remove(value)\n",
    "    \n",
    "    # Remove the value from the same subsquare\n",
    "    block_pos_x = rowid//3\n",
    "    block_pos_y = colid//3\n",
    "    block_start_pos = {0:0, 1:3, 2:6, 3:27, 4:30, 5:33, 6:54, 7:57, 8:60}\n",
    "    start_pos = block_start_pos[block_pos_x*3+block_pos_y]\n",
    "    positions = []\n",
    "    for i in range(0,3):\n",
    "        positions.append(start_pos+i)\n",
    "        positions.append(start_pos+i+9)\n",
    "        positions.append(start_pos+i+18)\n",
    "    \n",
    "    for i in positions:\n",
    "        if value in old_domain[(i//9, i%9)]:\n",
    "            old_domain[(i//9, i%9)].remove(value)\n",
    "    \n",
    "    return old_domain"
   ]
  },
  {
   "cell_type": "code",
   "execution_count": null,
   "metadata": {},
   "outputs": [],
   "source": [
    "def find_candidates_for_exploration(grid, domain):\n",
    "    \n",
    "#     candidates_with_values = []\n",
    "    candidates = []\n",
    "    \n",
    "    for i in range(0, 81):\n",
    "        rowid = i//9\n",
    "        colid = i%9\n",
    "        \n",
    "        if grid[rowid, colid] == 0:\n",
    "            if len(domain[(rowid, colid)]) > 0:\n",
    "                candidates.append(i)\n",
    "\n",
    "    return candidates"
   ]
  },
  {
   "cell_type": "code",
   "execution_count": null,
   "metadata": {},
   "outputs": [],
   "source": [
    "def initialize_domain(grid):\n",
    "    domain = {}\n",
    "    for i in range(0, 81):\n",
    "        rowid = i//9\n",
    "        colid = i%9\n",
    "        \n",
    "        if grid[rowid, colid] == 0:\n",
    "            domain[(rowid, colid)] = list(range(1, 10))\n",
    "            \n",
    "            for j in range(0, 9):\n",
    "                if grid[(rowid, j)] in domain[(rowid, colid)]:\n",
    "                    domain[(rowid, colid)].remove(grid[(rowid, j)])\n",
    "                if grid[(j, colid)] in domain[(rowid, colid)]:\n",
    "                    domain[(rowid, colid)].remove(grid[(j, colid)])\n",
    "            \n",
    "            block_pos_x = rowid//3\n",
    "            block_pos_y = colid//3\n",
    "            block_start_pos = {0:0, 1:3, 2:6, 3:27, 4:30, 5:33, 6:54, 7:57, 8:60}\n",
    "            start_pos = block_start_pos[block_pos_x*3+block_pos_y]\n",
    "            positions = []\n",
    "            for i in range(0,3):\n",
    "                try:\n",
    "                    if grid[((start_pos+i)//9, (start_pos+i)%9)] in domain[(rowid, colid)]:\n",
    "                        domain[(rowid, colid)].remove(grid[((start_pos+i)//9, (start_pos+i)%9)])\n",
    "                    if grid[((start_pos+9+i)//9, (start_pos+9+i)%9)] in domain[(rowid, colid)]:\n",
    "                        domain[(rowid, colid)].remove(grid[((start_pos+9+i)//9, (start_pos+9+i)%9)])\n",
    "                    if grid[((start_pos+18+i)//9, (start_pos+18+i)%9)] in domain[(rowid, colid)]:\n",
    "                        domain[(rowid, colid)].remove(grid[((start_pos+18+i)//9, (start_pos+18+i)%9)])\n",
    "                except Exception as ex:\n",
    "                    print(ex)\n",
    "                    print(start_pos, i, start_pos+i//9, start_pos+9+i//9, start_pos+18+i//9)\n",
    "        else:\n",
    "            domain[(rowid, colid)] = [grid[rowid, colid]]\n",
    "    return domain\n",
    "                "
   ]
  },
  {
   "cell_type": "code",
   "execution_count": null,
   "metadata": {},
   "outputs": [],
   "source": []
  },
  {
   "cell_type": "code",
   "execution_count": null,
   "metadata": {},
   "outputs": [],
   "source": [
    "def DFS(grid, domain, stateidx=0, tsidx=0, level=0):\n",
    "    candidate_cells = find_candidates_for_exploration(grid, domain)\n",
    "    \n",
    "    if len(candidate_cells) == 0:\n",
    "        if np.sum(grid) == 405:\n",
    "            print(\"Solved!\")\n",
    "            print_grid(grid)\n",
    "            sys.exit(1)\n",
    "        else:\n",
    "            print(\"Backtracking!\")\n",
    "            return \"bt\"\n",
    "\n",
    "    gl_candidate_values = {}\n",
    "    for cc in candidate_cells:\n",
    "        gl_candidate_values[cc] = domain[(cc//9, cc%9)]\n",
    "    print(\"level, all cand values@level: \" , level, gl_candidate_values)\n",
    "\n",
    "    new_dom = domain.copy()\n",
    "    grid_copy = grid.copy()\n",
    "    for cc in candidate_cells:\n",
    "        for cv in gl_candidate_values[cc][-1::-1]:\n",
    "            tsidx = tsidx+1\n",
    "            values_tree[stateidx][cv] = True    \n",
    "            grid_copy[cc//9, cc%9] = cv\n",
    "            new_domain_with_new_value = find_new_domain(grid_copy, cc, cv, new_dom)\n",
    "            new_domain_with_new_value[(cc//9, cc%9)] = [cv]\n",
    "            print(\"DFS ON level, cell, val: \", level, cc, cv)\n",
    "            op = DFS(grid_copy, new_domain_with_new_value, stateidx+1, tsidx, level+1)\n"
   ]
  },
  {
   "cell_type": "code",
   "execution_count": null,
   "metadata": {},
   "outputs": [],
   "source": [
    "grid = [list(range(9,0,-1)), [2,4,6,0,7,3,0,8,0], [3,0,1,9,2,8,7,4,0], [1,2,8,5,3,7,0,9,4], [6,3,4,8,9,2,1,0,7],\n",
    "       [7,9,0,4,6,1,8,3,2], [5,1,0,2,8,6,4,7,3], [4,7,0,3,0,9,5,0,0], [8,6,3,7,0,5,2,0,0]]\n",
    "# grid = [[8,0,0,1,0,0,0,7,0], [0,2,0,0,4,0,8,0,0],[0,6,0,7,0,0,0,0,0],[0,0,0,4,7,0,9,0,8],[2,4,0,0,8,0,0,0,0],[0,3,8,0,0,0,0,0,5],[0,8,0,6,0,4,1,0,0],[9,0,0,0,0,7,2,0,4],[0,0,5,8,1,0,0,0,6]]\n",
    "print(grid)"
   ]
  },
  {
   "cell_type": "code",
   "execution_count": null,
   "metadata": {},
   "outputs": [],
   "source": [
    "UNEXPLORED = 0  #Cell is available.\n",
    "\n",
    "\n",
    "# grid = np.zeros((9, 9))\n",
    "# grid = initialize_grid(grid)\n",
    "grid = np.array(grid)\n",
    "domain = initialize_domain(grid)\n",
    "\n",
    "DFS(grid, domain)"
   ]
  },
  {
   "cell_type": "code",
   "execution_count": null,
   "metadata": {},
   "outputs": [],
   "source": []
  },
  {
   "cell_type": "code",
   "execution_count": null,
   "metadata": {},
   "outputs": [],
   "source": []
  },
  {
   "cell_type": "code",
   "execution_count": null,
   "metadata": {},
   "outputs": [],
   "source": []
  }
 ],
 "metadata": {
  "kernelspec": {
   "display_name": "python37",
   "language": "python",
   "name": "python37"
  },
  "language_info": {
   "codemirror_mode": {
    "name": "ipython",
    "version": 3
   },
   "file_extension": ".py",
   "mimetype": "text/x-python",
   "name": "python",
   "nbconvert_exporter": "python",
   "pygments_lexer": "ipython3",
   "version": "3.7.9"
  }
 },
 "nbformat": 4,
 "nbformat_minor": 4
}
